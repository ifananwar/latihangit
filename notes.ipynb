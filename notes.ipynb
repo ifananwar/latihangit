{
 "cells": [
  {
   "cell_type": "markdown",
   "id": "a57e5e89",
   "metadata": {},
   "source": [
    "# My Notebook\n",
    "\n",
    "## Introduction\n",
    "- Name: Ach Anwar Idam Fanani"
   ]
  },
  {
   "cell_type": "code",
   "execution_count": null,
   "id": "241e26e8",
   "metadata": {
    "vscode": {
     "languageId": "plaintext"
    }
   },
   "outputs": [],
   "source": [
    "print(\"This code will be executed.\")"
   ]
  }
 ],
 "metadata": {
  "language_info": {
   "name": "python"
  }
 },
 "nbformat": 4,
 "nbformat_minor": 5
}
